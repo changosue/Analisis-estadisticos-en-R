{
  "nbformat": 4,
  "nbformat_minor": 0,
  "metadata": {
    "colab": {
      "provenance": [],
      "authorship_tag": "ABX9TyNDhfhkyb1K+G7lKiKDumCB",
      "include_colab_link": true
    },
    "kernelspec": {
      "name": "python3",
      "display_name": "Python 3"
    },
    "language_info": {
      "name": "python"
    }
  },
  "cells": [
    {
      "cell_type": "markdown",
      "metadata": {
        "id": "view-in-github",
        "colab_type": "text"
      },
      "source": [
        "<a href=\"https://colab.research.google.com/github/changosue/Analisis-estadisticos-en-R/blob/main/Distribucion_especies.ipynb\" target=\"_parent\"><img src=\"https://colab.research.google.com/assets/colab-badge.svg\" alt=\"Open In Colab\"/></a>"
      ]
    },
    {
      "cell_type": "markdown",
      "source": [
        "# Visualización de la Distribución de Especies utilizando GBIF y Google Colab"
      ],
      "metadata": {
        "id": "K7KsThoKT4N5"
      }
    },
    {
      "cell_type": "markdown",
      "source": [
        "**Objetivo:**\n",
        "\n",
        "Este cuaderno de Colab te permitirá visualizar la distribución geográfica de una especie de tu elección utilizando datos de GBIF (una base de datos global de biodiversidad). Además, podrás descargar los datos visualizados en diferentes formatos."
      ],
      "metadata": {
        "id": "pJyjogscUFOx"
      }
    },
    {
      "cell_type": "markdown",
      "source": [
        "## **Paso 1: Preparación**"
      ],
      "metadata": {
        "id": "0Hn76M5Cr-QP"
      }
    },
    {
      "cell_type": "markdown",
      "source": [
        "**Instalación de bibliotecas necesarias:**\n",
        "\n",
        "Antes de comenzar, necesitamos instalar algunas herramientas que nos ayudarán a procesar y visualizar los datos. Simplemente ejecuta la siguiente celda:"
      ],
      "metadata": {
        "id": "ks6nyGVTjODL"
      }
    },
    {
      "cell_type": "code",
      "source": [
        "!pip install pandas plotly geopandas\n",
        "!pip install -U kaleido\n"
      ],
      "metadata": {
        "id": "mnuE1TRrjhNW"
      },
      "execution_count": null,
      "outputs": []
    },
    {
      "cell_type": "markdown",
      "source": [
        "\n",
        "**Importar bibliotecas:**\n",
        "\n",
        "Una vez que las herramientas estén instaladas, debemos \"importarlas\" para utilizarlas. Piensa en ello como encender una máquina antes de usarla.\n"
      ],
      "metadata": {
        "id": "Q71NBtbkjoB9"
      }
    },
    {
      "cell_type": "code",
      "source": [
        "import requests\n",
        "import pandas as pd\n",
        "import plotly.graph_objects as go\n",
        "import geopandas as gpd\n",
        "from shapely.geometry import Point\n",
        "from google.colab import files\n",
        "import zipfile\n",
        "import os\n",
        "\n"
      ],
      "metadata": {
        "id": "YgWf5AM-jsCe"
      },
      "execution_count": null,
      "outputs": []
    },
    {
      "cell_type": "markdown",
      "source": [
        "##**Paso 2: Obtener y procesar datos**"
      ],
      "metadata": {
        "id": "L3cunIgiV3nS"
      }
    },
    {
      "cell_type": "markdown",
      "source": [
        "**Función para obtener datos de GBIF:**\n",
        "\n",
        "Esta función actúa como un mensajero, yendo al sitio web de GBIF, buscando la especie que queremos y trayendo los datos de vuelta para nosotros."
      ],
      "metadata": {
        "id": "1_FX6FlbV9HH"
      }
    },
    {
      "cell_type": "code",
      "source": [
        "def obtener_datos_gbif(nombre_especie, limite=3000):\n",
        "    url_base = \"https://api.gbif.org/v1/occurrence/search\"\n",
        "    parametros = {\n",
        "        \"q\": nombre_especie,\n",
        "        \"limit\": limite\n",
        "    }\n",
        "\n",
        "    respuesta = requests.get(url_base, params=parametros)\n",
        "\n",
        "    if respuesta.status_code != 200:\n",
        "        print(\"Error obteniendo datos.\")\n",
        "        return None\n",
        "\n",
        "    data = respuesta.json()\n",
        "    resultados = []\n",
        "\n",
        "    for registro in data['results']:\n",
        "        if 'decimalLatitude' in registro and 'decimalLongitude' in registro:\n",
        "            resultados.append({\n",
        "                'latitud': registro['decimalLatitude'],\n",
        "                'longitud': registro['decimalLongitude'],\n",
        "                'pais': registro['country'] if 'country' in registro else None\n",
        "            })\n",
        "\n",
        "    df = pd.DataFrame(resultados)\n",
        "    return df"
      ],
      "metadata": {
        "id": "cIJPqyryj2lN"
      },
      "execution_count": null,
      "outputs": []
    },
    {
      "cell_type": "markdown",
      "source": [
        "**Función para formatear la lista de países:**\n",
        "\n",
        "Si la especie que buscas está en muchos países, esta función nos ayudará a mostrar esa lista de una manera legible."
      ],
      "metadata": {
        "id": "nFZa3J21WF0b"
      }
    },
    {
      "cell_type": "code",
      "source": [
        "def dividir_paises(lista_paises, max_chars_por_linea=50):\n",
        "    palabras = lista_paises.split(\", \")\n",
        "    lineas = []\n",
        "    linea_actual = []\n",
        "\n",
        "    longitud_linea_actual = 0\n",
        "\n",
        "    for palabra in palabras:\n",
        "        if longitud_linea_actual + len(palabra) > max_chars_por_linea:\n",
        "            lineas.append(\", \".join(linea_actual))\n",
        "            linea_actual = []\n",
        "            longitud_linea_actual = 0\n",
        "\n",
        "        linea_actual.append(palabra)\n",
        "        longitud_linea_actual += len(palabra) + 2  # 2 for \", \"\n",
        "\n",
        "    # Añadir la última línea si tiene contenido\n",
        "    if linea_actual:\n",
        "        lineas.append(\", \".join(linea_actual))\n",
        "\n",
        "    return \"<br>\".join(lineas)"
      ],
      "metadata": {
        "id": "YNDUli6PrmQR"
      },
      "execution_count": null,
      "outputs": []
    },
    {
      "cell_type": "markdown",
      "source": [
        "##**Paso 3: Visualizar datos**"
      ],
      "metadata": {
        "id": "b8uvdhXrWNLV"
      }
    },
    {
      "cell_type": "markdown",
      "source": [
        "**Función para crear mapa de calor:**\n",
        "\n",
        "Esta función toma los datos que obtuvimos y crea una bonita visualización geográfica llamada \"mapa de calor\". Las áreas con más registros de la especie aparecerán más \"calientes\" o más brillantes."
      ],
      "metadata": {
        "id": "VvKQ938FWQcJ"
      }
    },
    {
      "cell_type": "code",
      "source": [
        "def mapa_calor_especie(nombre_especie):\n",
        "    df = obtener_datos_gbif(nombre_especie)\n",
        "\n",
        "    if df is None or df.empty:\n",
        "        print(f\"No se encontraron datos para {nombre_especie}.\")\n",
        "        return\n",
        "\n",
        "    # Creando una columna de recuento\n",
        "    df['recuento'] = 1\n",
        "\n",
        "    # Definir coordenadas para centrar en México\n",
        "    center_lat = 23.6345\n",
        "    center_lon = -102.5528\n",
        "    zoom_level = 4\n",
        "    mapbox_style = \"stamen-terrain\"\n",
        "\n",
        "    fig = go.Figure()\n",
        "\n",
        "    # Tracer el mapa de densidad\n",
        "    fig.add_trace(go.Densitymapbox(lat=df['latitud'],\n",
        "                                   lon=df['longitud'],\n",
        "                                   z=df['recuento'],\n",
        "                                   radius=10,\n",
        "                                   colorscale=\"Viridis\",\n",
        "                                   showscale=True,\n",
        "                                   colorbar_title=\"Número de ocurrencias\"))\n",
        "\n",
        "    # Configuración general\n",
        "    fig.update_layout(mapbox_style=mapbox_style,\n",
        "                      mapbox_center_lon=center_lon,\n",
        "                      mapbox_center_lat=center_lat,\n",
        "                      mapbox_zoom=zoom_level)\n",
        "\n",
        "    # Estadísticas y título\n",
        "    titulo = f\"Distribución de <i>{nombre_especie}</i>\"\n",
        "\n",
        "    en_mexico = \"Sí\" if \"Mexico\" in df['pais'].unique() else \"No\"\n",
        "    distribucion = df['pais'].value_counts().to_dict()\n",
        "    lista_paises = \", \".join(distribucion.keys())\n",
        "    lista_paises_multilinea = dividir_paises(lista_paises)\n",
        "\n",
        "    annotations = [\n",
        "        dict(x=0.5, y=-0.2, xref='paper', yref='paper', showarrow=False, align='center',\n",
        "             text=f\"Resumen para <i>{nombre_especie}</i>:<br>\"\n",
        "                  f\"Presente en México: {en_mexico}<br>\"\n",
        "                  f\"Distribución por países: {lista_paises_multilinea}\")\n",
        "    ]\n",
        "\n",
        "    fig.update_layout(annotations=annotations, title=titulo)\n",
        "\n",
        "    fig.show()\n",
        "    return fig, df\n"
      ],
      "metadata": {
        "id": "nIo8rA3ij_uG"
      },
      "execution_count": null,
      "outputs": []
    },
    {
      "cell_type": "markdown",
      "source": [
        "##**Paso 4: Descargar datos**"
      ],
      "metadata": {
        "id": "hrjPNwrMW0tH"
      }
    },
    {
      "cell_type": "markdown",
      "source": [
        "Quizás desees guardar los datos visualizados para usarlos más tarde o compartirlos. La siguiente funciones te permiten hacer exactamente eso."
      ],
      "metadata": {
        "id": "p0lPL420XIM_"
      }
    },
    {
      "cell_type": "code",
      "source": [
        "def descargar_jpeg(nombre_especie, fig):\n",
        "    import plotly.io as pio\n",
        "    pio.write_image(fig, 'mapa.jpeg', width=1920, height=1080)\n",
        "    files.download('mapa.jpeg')\n"
      ],
      "metadata": {
        "id": "xh1uBNv2a7G4"
      },
      "execution_count": null,
      "outputs": []
    },
    {
      "cell_type": "markdown",
      "source": [
        "**Función para descargar como archivo CSV** (una especie de hoja de cálculo):"
      ],
      "metadata": {
        "id": "3hdpHPATXCLl"
      }
    },
    {
      "cell_type": "code",
      "source": [
        "def descargar_csv(df):\n",
        "    df.to_csv(\"datos.csv\", index=False)\n",
        "    files.download('datos.csv')"
      ],
      "metadata": {
        "id": "qHmUj5vSQXo_"
      },
      "execution_count": null,
      "outputs": []
    },
    {
      "cell_type": "markdown",
      "source": [
        "**Función para descargar como archivo Shapefile** (formato utilizado en geografía y sistemas de información geográfica):"
      ],
      "metadata": {
        "id": "09x3HRsjXgK7"
      }
    },
    {
      "cell_type": "code",
      "source": [
        "def descargar_shp(df):\n",
        "    gdf = gpd.GeoDataFrame(df, geometry=gpd.points_from_xy(df.longitud, df.latitud))\n",
        "    gdf.crs = \"EPSG:4326\"\n",
        "    gdf.to_file(\"datos.shp\")\n",
        "\n",
        "    # Comprimir todos los archivos relacionados en un archivo ZIP\n",
        "    archivos_shapefile = ['datos.shp', 'datos.shx', 'datos.dbf', 'datos.prj', 'datos.cpg']\n",
        "    with zipfile.ZipFile('datos.zip', 'w') as zipf:\n",
        "        for archivo in archivos_shapefile:\n",
        "            if os.path.exists(archivo):\n",
        "                zipf.write(archivo)\n",
        "            else:\n",
        "                print(f\"Advertencia: {archivo} no encontrado.\")\n",
        "\n",
        "    # Descargar el archivo ZIP\n",
        "    files.download('datos.zip')"
      ],
      "metadata": {
        "id": "rvEl5_ZLQaJ7"
      },
      "execution_count": null,
      "outputs": []
    },
    {
      "cell_type": "markdown",
      "source": [
        "## **Paso 5: ¡Ponlo todo en marcha!**"
      ],
      "metadata": {
        "id": "Q6al6ZjXXjYb"
      }
    },
    {
      "cell_type": "markdown",
      "source": [
        "Esta es la parte emocionante. Ahora vas a interactuar con el código:\n",
        "\n",
        "\n",
        "\n",
        "*   Se te pedirá que ingreses el nombre de una especie.\n",
        "*   Verás un mapa de calor de la distribución de esa especie.\n",
        "*  Tendrás la opción de descargar los datos visualizados.\n",
        "\n",
        "Simplemente ejecuta la siguiente celda y sigue las instrucciones:"
      ],
      "metadata": {
        "id": "KxcCMC0KXo7G"
      }
    },
    {
      "cell_type": "code",
      "source": [
        "nombre_especie_input = input(\"Introduce el nombre de la especie para visualizar su mapa de calor: \")\n",
        "fig, df = mapa_calor_especie(nombre_especie_input)\n"
      ],
      "metadata": {
        "id": "7X-luvjokaog"
      },
      "execution_count": null,
      "outputs": []
    },
    {
      "cell_type": "markdown",
      "source": [
        "**Descarga de Datos:**\n",
        "\n",
        "Después de visualizar el mapa de distribución de la especie, es posible que desees conservar estos datos para análisis posteriores o para compartirlos con colegas o publicarlos.\n",
        "\n",
        "Por eso, te ofrecemos la opción de descargar los datos en diversos formatos:\n",
        "\n",
        "* JPEG: Es una imagen del mapa visualizado. Ideal para presentaciones o informes.\n",
        "\n",
        "* CSV: Formato \"Comma Separated Values\". Es una tabla que puedes abrir con programas de hoja de cálculo como Excel. Es útil si deseas analizar los datos con otras herramientas o software.\n",
        "\n",
        "* SHP: Es el formato estándar de archivo para software de Sistemas de Información Geográfica (SIG). Te permite integrar estos datos en mapas más complejos o realizar análisis espaciales.\n",
        "\n",
        "A continuación, se te pedirá que decidas si deseas o no descargar los datos. Si eliges hacerlo, luego deberás seleccionar el formato deseado. Sigue las instrucciones en pantalla."
      ],
      "metadata": {
        "id": "KD9e0MB-ulec"
      }
    },
    {
      "cell_type": "code",
      "source": [
        "opcion_descarga = input(\"¿Quieres descargar los datos? (si/no): \")\n",
        "if opcion_descarga.lower() == \"si\":\n",
        "    formatos = [\"jpeg\", \"csv\", \"shp\"]\n",
        "    formato_seleccionado = input(f\"¿En qué formato deseas descargar? Opciones: {', '.join(formatos)}: \")\n",
        "\n",
        "    if formato_seleccionado == \"jpeg\":\n",
        "        descargar_jpeg(nombre_especie_input, fig)\n",
        "    elif formato_seleccionado == \"csv\":\n",
        "        descargar_csv(df)\n",
        "    elif formato_seleccionado == \"shp\":\n",
        "        descargar_shp(df)\n",
        "    else:\n",
        "        print(\"Formato no reconocido.\")"
      ],
      "metadata": {
        "id": "cLwfepjlh1ZD"
      },
      "execution_count": null,
      "outputs": []
    }
  ]
}